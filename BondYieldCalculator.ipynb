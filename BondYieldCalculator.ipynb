{
 "cells": [
  {
   "cell_type": "code",
   "execution_count": null,
   "metadata": {},
   "outputs": [],
   "source": [
    "\"\"\"\n",
    "Question from CFA\n",
    "Exhibit 1: Current Par and Spot Rates\n",
    "Maturity\tPar Rate\tSpot Rate\n",
    "One year\t2.50%\t2.50%\n",
    "Two years\t2.99%\t3.00%\n",
    "Three years\t3.48%\t3.50%\n",
    "Four years\t3.95%\t4.00%\n",
    "Five years\t4.37%\n",
    "\n",
    "\n",
    "Q. Based on Exhibit 1, the five-year spot rate is closest to:\n",
    "\n",
    "A.4.40%.\n",
    "B.4.45%. >>>\n",
    "C.4.50%.\n",
    "\n",
    "Q. Based on Exhibit 1, the forward rate of a one-year loan beginning in three years is closest to:\n",
    "\n",
    "A.4.17%.\n",
    "B.4.50%.\n",
    "C.5.51%. >>>>>\n",
    "\"\"\""
   ]
  },
  {
   "cell_type": "code",
   "execution_count": 18,
   "metadata": {},
   "outputs": [],
   "source": [
    "\n",
    "import numpy as np\n",
    "import webbrowser"
   ]
  },
  {
   "cell_type": "markdown",
   "metadata": {},
   "source": [
    "Do join My tellegram Channel\n",
    "\"https://t.me/lets_pythonize_financial_skill\"\n"
   ]
  },
  {
   "cell_type": "code",
   "execution_count": 19,
   "metadata": {},
   "outputs": [],
   "source": [
    "par_rate = [2.50, 2.99, 3.48, 3.95, 4.37]"
   ]
  },
  {
   "cell_type": "markdown",
   "metadata": {},
   "source": [
    "Spot rate Function"
   ]
  },
  {
   "cell_type": "code",
   "execution_count": 20,
   "metadata": {},
   "outputs": [],
   "source": [
    "def cpt_spot_rate(par_rate):\n",
    "    spot_rate = []\n",
    "    for a in par_rate:\n",
    "        if len(spot_rate) == 0:\n",
    "            spot_rate.append(round(par_rate[0] / 100, 4))\n",
    "            #print(f\"Computed spot rate for year {len(spot_rate)} {spot_rate[0]}\")\n",
    "        else:\n",
    "            cpn = [round(par_rate[len(spot_rate)] / 100, 4) for a in range(len(spot_rate) + 1)]\n",
    "            cpn[-1] = cpn[-1] + 1\n",
    "            LHS = 1\n",
    "            iter = 0\n",
    "            #print(f\"CFs {cpn} for year {len(spot_rate) + 1}\")\n",
    "            #print(\"***\" * 15)\n",
    "            for cf, sr in zip(cpn[:-1], spot_rate):\n",
    "\n",
    "                if LHS == 1 and iter == 0:\n",
    "                    # print(\"True\")\n",
    "                    pass\n",
    "                iter += 1\n",
    "                LHS -= round(cf / (1 + sr) ** iter, 6)\n",
    "\n",
    "                #print(f\"{cf} / (1+ {sr})^{iter} = {round(cf / (1 + sr) ** iter, 6)} and LHS = {LHS}\")\n",
    "\n",
    "                # print(f\"RHS {round(cf*(1/((sr+1)**iter)),4)}\")\n",
    "\n",
    "            RHS = round(((cpn[-1] / LHS) ** (1 / len(cpn)) - 1), 6)\n",
    "            spot_rate.append(RHS)\n",
    "            #print(f\"Computed spot rate for year {len(spot_rate)} {RHS}\")\n",
    "\n",
    "    spot_rate = list((np.array(spot_rate)*100).round(2))\n",
    "    return spot_rate"
   ]
  },
  {
   "cell_type": "code",
   "execution_count": 21,
   "metadata": {},
   "outputs": [],
   "source": [
    "def cpt_forward_rate(from_now, tenure, spot_rate:list):\n",
    "    \"\"\"\n",
    "    :param from_now: load time starting from eg n year from now\n",
    "    :param tenure: n year from n year loan\n",
    "    :param spot_rate: list of spot rate\n",
    "    :return:\n",
    "\n",
    "    \"\"\"\n",
    "    spot_rate = [round(a/100,6) for a in spot_rate]\n",
    "    final_yearr = sum([from_now,tenure])\n",
    "    RHS = (spot_rate[from_now-1]+1)**from_now\n",
    "    LHS = (spot_rate[final_yearr-1]+1)**final_yearr\n",
    "    forwar_rate = ((LHS/RHS)**(1/tenure) - 1)*100\n",
    "\n",
    "\n",
    "    return round(forwar_rate,2)"
   ]
  },
  {
   "cell_type": "markdown",
   "metadata": {},
   "source": [
    "Computing Spot rate from the given par rate\n",
    "and getting 5th year spot rate"
   ]
  },
  {
   "cell_type": "code",
   "execution_count": 22,
   "metadata": {},
   "outputs": [
    {
     "name": "stdout",
     "output_type": "stream",
     "text": [
      "[2.5, 3.0, 3.5, 4.0, 4.45]\n",
      "The 4.45 is the 5th year spot rate that is missing in exhibit 1\n"
     ]
    }
   ],
   "source": [
    "spot_rate = cpt_spot_rate(par_rate)\n",
    "print(spot_rate)\n",
    "print(f\"The {spot_rate[-1]} is the 5th year spot rate that is missing in exhibit 1\")"
   ]
  },
  {
   "cell_type": "code",
   "execution_count": 24,
   "metadata": {},
   "outputs": [
    {
     "name": "stdout",
     "output_type": "stream",
     "text": [
      "3y from now 1y loan's forward rate is 5.51%\n"
     ]
    },
    {
     "data": {
      "text/plain": [
       "True"
      ]
     },
     "execution_count": 24,
     "metadata": {},
     "output_type": "execute_result"
    }
   ],
   "source": [
    "from_now = 3\n",
    "tenure = 1\n",
    "print(f\"{from_now }y from now {tenure}y loan's forward rate is {cpt_forward_rate(from_now,tenure, spot_rate)}%\")\n",
    "webbrowser.open_new_tab(\"https://t.me/lets_pythonize_financial_skill\")"
   ]
  },
  {
   "cell_type": "code",
   "execution_count": null,
   "metadata": {},
   "outputs": [],
   "source": []
  }
 ],
 "metadata": {
  "kernelspec": {
   "display_name": "Python 3",
   "language": "python",
   "name": "python3"
  },
  "language_info": {
   "codemirror_mode": {
    "name": "ipython",
    "version": 3
   },
   "file_extension": ".py",
   "mimetype": "text/x-python",
   "name": "python",
   "nbconvert_exporter": "python",
   "pygments_lexer": "ipython3",
   "version": "3.10.1"
  }
 },
 "nbformat": 4,
 "nbformat_minor": 2
}
